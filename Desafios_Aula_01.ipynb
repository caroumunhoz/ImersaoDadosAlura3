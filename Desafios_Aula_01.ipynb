{
  "nbformat": 4,
  "nbformat_minor": 0,
  "metadata": {
    "colab": {
      "name": "Desafios-Aula-01.ipynb",
      "provenance": [],
      "authorship_tag": "ABX9TyP4e54M9GbQIePL14mjNNwc"
    },
    "kernelspec": {
      "name": "python3",
      "display_name": "Python 3"
    },
    "language_info": {
      "name": "python"
    }
  },
  "cells": [
    {
      "cell_type": "markdown",
      "metadata": {
        "id": "oYOtiommNeWj"
      },
      "source": [
        "# 3ª Imersão Dados Alura"
      ]
    },
    {
      "cell_type": "markdown",
      "metadata": {
        "id": "RyDqnLPHRzA0"
      },
      "source": [
        "Este projeto utiliza o notebook do Google Colab para realizar as análises e resultados dos desafios referente a primeira aula da imersão. #imersaodados #alura"
      ]
    },
    {
      "cell_type": "markdown",
      "metadata": {
        "id": "QRPwcMpZSIGm"
      },
      "source": [
        "**Importando os dados do GitHub**"
      ]
    },
    {
      "cell_type": "code",
      "metadata": {
        "id": "fu4_yeAwN6dy"
      },
      "source": [
        "import pandas as pd\n",
        "url_dados = 'https://github.com/alura-cursos/imersaodados3/blob/main/dados/dados_experimentos.zip?raw=true'\n",
        "dados = pd.read_csv(url_dados, compression = 'zip')\n",
        "dados "
      ],
      "execution_count": null,
      "outputs": []
    },
    {
      "cell_type": "markdown",
      "metadata": {
        "id": "JPYK8J3qSZFv"
      },
      "source": [
        "**Análise inicial e tratamento dos dados**"
      ]
    },
    {
      "cell_type": "code",
      "metadata": {
        "id": "fV1RHD7HSftD"
      },
      "source": [
        "#Esta função é utilizada para ler apenas as 5 primeiras linhas da nossa tabela\n",
        "dados.head()"
      ],
      "execution_count": null,
      "outputs": []
    },
    {
      "cell_type": "code",
      "metadata": {
        "id": "qFhSV0ZdS-mL"
      },
      "source": [
        "#A função shape realiza a contagem de linhas e colunas da nossa tabela\n",
        "dados.shape"
      ],
      "execution_count": null,
      "outputs": []
    },
    {
      "cell_type": "code",
      "metadata": {
        "id": "5mth13yyTSNw"
      },
      "source": [
        "#Utilizando [] conseguimos selecionar apenas uma coluna para visualizarmos\n",
        "dados['tratamento']"
      ],
      "execution_count": null,
      "outputs": []
    },
    {
      "cell_type": "code",
      "metadata": {
        "id": "1am4GfrUTqNK"
      },
      "source": [
        "#Utilizando .unique conseguimos ver os valores unicos (variáveis) dentro da coluna\n",
        "dados['tratamento'].unique()"
      ],
      "execution_count": null,
      "outputs": []
    },
    {
      "cell_type": "code",
      "metadata": {
        "id": "KOJJRFSaT-Y7"
      },
      "source": [
        "dados['tempo'].unique()"
      ],
      "execution_count": null,
      "outputs": []
    },
    {
      "cell_type": "code",
      "metadata": {
        "id": "_p2eBmHLUFAh"
      },
      "source": [
        "dados['dose'].unique()"
      ],
      "execution_count": null,
      "outputs": []
    },
    {
      "cell_type": "code",
      "metadata": {
        "id": "VLUJcxIWUIGl"
      },
      "source": [
        "dados['droga'].unique()"
      ],
      "execution_count": null,
      "outputs": []
    },
    {
      "cell_type": "code",
      "metadata": {
        "id": "3PFJIrHQUNdN"
      },
      "source": [
        "dados['g-0'].unique()"
      ],
      "execution_count": null,
      "outputs": []
    },
    {
      "cell_type": "code",
      "metadata": {
        "id": "q2HEQmb6UO2p"
      },
      "source": [
        "#A função value_counts() faz a contagem de classes dentro da coluna\n",
        "dados['tratamento'].value_counts()"
      ],
      "execution_count": null,
      "outputs": []
    },
    {
      "cell_type": "code",
      "metadata": {
        "id": "Rm8M8iNMUcXA"
      },
      "source": [
        "dados['dose'].value_counts()"
      ],
      "execution_count": null,
      "outputs": []
    },
    {
      "cell_type": "code",
      "metadata": {
        "id": "ToR_wAiPUm39"
      },
      "source": [
        "#Plotando(imprimindo) Gráfico de Pizza\n",
        "dados['tratamento'].value_counts().plot.pie()"
      ],
      "execution_count": null,
      "outputs": []
    },
    {
      "cell_type": "code",
      "metadata": {
        "id": "won2Xr_rWWvR"
      },
      "source": [
        "dados['tempo'].value_counts().plot.pie()"
      ],
      "execution_count": null,
      "outputs": []
    },
    {
      "cell_type": "code",
      "metadata": {
        "id": "hCeedWS6Wbfw"
      },
      "source": [
        "#Plotando(imprimindo) Gráfico de Barras\n",
        "dados['tempo'].value_counts().plot.bar()"
      ],
      "execution_count": null,
      "outputs": []
    },
    {
      "cell_type": "markdown",
      "metadata": {
        "id": "o5yg0WbPW9iP"
      },
      "source": [
        "## **Desafios**"
      ]
    },
    {
      "cell_type": "markdown",
      "metadata": {
        "id": "0Acv8nf_XDZW"
      },
      "source": [
        "***Desafio 01: Investigar por que a classe tratamento é tão desbalanceada?***"
      ]
    },
    {
      "cell_type": "code",
      "metadata": {
        "id": "T_6Des_LXQNh"
      },
      "source": [
        "dados['tratamento'].value_counts(normalize=True)"
      ],
      "execution_count": null,
      "outputs": []
    },
    {
      "cell_type": "code",
      "metadata": {
        "id": "Re0xb0sPR6F2"
      },
      "source": [
        "dados['tratamento'].value_counts()"
      ],
      "execution_count": null,
      "outputs": []
    },
    {
      "cell_type": "markdown",
      "metadata": {
        "id": "zvb_6zbMSZOj"
      },
      "source": [
        "Quando realizamos a análise fica evidente a discrepância de valores entre os dois grupos, acredita-se que essa discrepância é devido ao grupo de controle não receber nenhum tipo de droga, ou seja, o paciente recebeu um placebo."
      ]
    },
    {
      "cell_type": "markdown",
      "metadata": {
        "id": "znri4FGkXhT9"
      },
      "source": [
        "***Desafio 02: Plotar as 5 últimas linhas da tabela.***"
      ]
    },
    {
      "cell_type": "code",
      "metadata": {
        "id": "RlBz8g8QXl7o"
      },
      "source": [
        "#A função tail faz a contagem de linhas de baixo para cima em uma tabela\n",
        "dados.tail(5)"
      ],
      "execution_count": null,
      "outputs": []
    },
    {
      "cell_type": "markdown",
      "metadata": {
        "id": "cRLN4fJbX_zO"
      },
      "source": [
        "***Desafio 03: Calcular a proporção das classes tratamento.***"
      ]
    },
    {
      "cell_type": "code",
      "metadata": {
        "id": "c4z3R32vYI_k"
      },
      "source": [
        "dados['tratamento'].value_counts(normalize = True)"
      ],
      "execution_count": null,
      "outputs": []
    },
    {
      "cell_type": "markdown",
      "metadata": {
        "id": "Cc0wkIxghTG0"
      },
      "source": [
        "***Desafio 04: Qauntos tipos de droga foram investigados?***"
      ]
    },
    {
      "cell_type": "code",
      "metadata": {
        "id": "8r28hfvLYQkC"
      },
      "source": [
        "#A função nunique faz a a somatoria da quantidade de dados\n",
        "dados['droga'].nunique()"
      ],
      "execution_count": null,
      "outputs": []
    },
    {
      "cell_type": "code",
      "metadata": {
        "id": "crTEePvWhd0A"
      },
      "source": [
        "#Outra forma de obtermos o resultado é utilizando a função describe, visualizamos a resposta na informação unique\n",
        "dados['droga'].describe()"
      ],
      "execution_count": null,
      "outputs": []
    },
    {
      "cell_type": "code",
      "metadata": {
        "id": "sea-wli-iJCM"
      },
      "source": [
        "#Também podemos utilizar a função value_counts, o resultado será informado em length\n",
        "dados['droga'].value_counts()"
      ],
      "execution_count": null,
      "outputs": []
    },
    {
      "cell_type": "markdown",
      "metadata": {
        "id": "CK5qvKsvrGkN"
      },
      "source": [
        "***Desafio 05: Procurar na documentação o método query(pandas)***"
      ]
    },
    {
      "cell_type": "markdown",
      "metadata": {
        "id": "rdM6rR5pr8q9"
      },
      "source": [
        "https://pandas.pydata.org/docs/reference/api/pandas.DataFrame.query.html#pandas.DataFrame.query\n",
        "\n",
        "https://pandas.pydata.org/docs/user_guide/indexing.html#indexing-query"
      ]
    },
    {
      "cell_type": "markdown",
      "metadata": {
        "id": "KhlTmLtT4qmm"
      },
      "source": [
        "Exemplo da aplicação do método query"
      ]
    },
    {
      "cell_type": "code",
      "metadata": {
        "id": "eDIgQRE2srrD"
      },
      "source": [
        "#Utilizamos a função query para selecionar as informações de hora dentro da coluna tempo \n",
        "t24 = dados.query('tempo == 24')\n",
        "t48 = dados.query('tempo == 48')\n",
        "t72 = dados.query('tempo == 72')"
      ],
      "execution_count": null,
      "outputs": []
    },
    {
      "cell_type": "code",
      "metadata": {
        "id": "WJHrzsmpsxBw"
      },
      "source": [
        "t24.shape"
      ],
      "execution_count": null,
      "outputs": []
    },
    {
      "cell_type": "code",
      "metadata": {
        "id": "QUGqToCi36EU"
      },
      "source": [
        "t48.shape"
      ],
      "execution_count": null,
      "outputs": []
    },
    {
      "cell_type": "code",
      "metadata": {
        "id": "N20vCdB639iO"
      },
      "source": [
        "t72.shape"
      ],
      "execution_count": null,
      "outputs": []
    },
    {
      "cell_type": "markdown",
      "metadata": {
        "id": "2RZNj609r_A7"
      },
      "source": [
        "***Desafio 06: Renomear as colunas tirando o hífen.***"
      ]
    },
    {
      "cell_type": "code",
      "metadata": {
        "id": "C0KFWyitsCJS"
      },
      "source": [
        "#Para renomear/substituir iremos utilizar a função replace('remover','substituir')\n",
        "#A função str significa string, que é texto ou caracter em Phyton\n",
        "dados.columns = dados.columns.str.replace('-','')\n",
        "dados.columns"
      ],
      "execution_count": null,
      "outputs": []
    },
    {
      "cell_type": "markdown",
      "metadata": {
        "id": "CHw0Po1B8uJP"
      },
      "source": [
        "Veja abaixo a importância de remover o hífen:"
      ]
    },
    {
      "cell_type": "code",
      "metadata": {
        "id": "z3lDTAXf7a1u"
      },
      "source": [
        "#Permite filtrar apenas os resultados positivos de um gene\n",
        "dados.query('g0 > 0')"
      ],
      "execution_count": null,
      "outputs": []
    },
    {
      "cell_type": "markdown",
      "metadata": {
        "id": "rfaRe6vR9G3y"
      },
      "source": [
        "***Desafio 07: Deixar os gráficos bonitões(colocar título e label - Matplotlib.pyplt).***"
      ]
    },
    {
      "cell_type": "code",
      "metadata": {
        "id": "-cqk79BI9US7"
      },
      "source": [
        "#Iportando o matplotlib para manipular os dados do gráfico\n",
        "import matplotlib.pyplot as plt"
      ],
      "execution_count": null,
      "outputs": []
    },
    {
      "cell_type": "code",
      "metadata": {
        "id": "mnCIABVlFyaU"
      },
      "source": [
        "#Plotando o Gráfico na Vertical, alterando a paleta de cores, colocando título e label\n",
        "cores = ['teal','brown']\n",
        "dados['tratamento'].value_counts().plot.bar(color = cores)\n",
        "plt.title('Qntd x Tipo Tratamento')\n",
        "plt.xlabel('Tipos de tratamento')\n",
        "plt.ylabel('Qntd experimentos')"
      ],
      "execution_count": null,
      "outputs": []
    },
    {
      "cell_type": "code",
      "metadata": {
        "id": "wCsoJ5kDFzrv"
      },
      "source": [
        "#Plotando o Gráfico na Vertical, alterando a paleta de cores, colocando título e label\n",
        "cores = ['gold','magenta','grey']\n",
        "dados['tempo'].value_counts().plot.barh(color = cores)\n",
        "plt.title('Tempo x Qntd')\n",
        "plt.xlabel('Qntd experimentos')\n",
        "plt.ylabel('Tempo (em horas)')"
      ],
      "execution_count": null,
      "outputs": []
    },
    {
      "cell_type": "code",
      "metadata": {
        "id": "NU9zrJL2GQRH"
      },
      "source": [
        "#Plotando o Gráfico de Pizza, alterando a paleta de cores, colocando título e label\n",
        "labels1 = 'Com droga', 'Com controle'\n",
        "cores = ['red','green']\n",
        "fig1, ax1 = plt.subplots()\n",
        "trat_plot = dados['tratamento'].value_counts().unique()\n",
        "ax1.pie(trat_plot, labels=labels1, autopct='%1.1f%%', shadow=True, startangle=90, explode=(0.2, 0.1), colors = cores)\n",
        "ax1.axis('equal')\n",
        "ax1.set_title('Proporção (em %) de Droga e Controle')\n",
        "plt.show()"
      ],
      "execution_count": null,
      "outputs": []
    },
    {
      "cell_type": "code",
      "metadata": {
        "id": "CYF7ORI-NfI4"
      },
      "source": [
        "#Plotando o Gráfico de Pizza, alterando a paleta de cores, colocando título e label\n",
        "labels1 = 'D1', 'D2'\n",
        "cores = ['blue','silver']\n",
        "fig1, ax1 = plt.subplots()\n",
        "trat_plot = dados['dose'].value_counts().unique()\n",
        "ax1.pie(trat_plot, labels=labels1, autopct='%1.1f%%', shadow=True, startangle=90, explode=(0.2, 0.1), colors = cores)\n",
        "ax1.axis('equal')\n",
        "ax1.set_title('Proporção (em %) de Doses')\n",
        "plt.show()"
      ],
      "execution_count": null,
      "outputs": []
    },
    {
      "cell_type": "markdown",
      "metadata": {
        "id": "X1akvbYvIJBS"
      },
      "source": [
        "***Desafio 08: Resumo do que você aprendeu com os dados.***"
      ]
    },
    {
      "cell_type": "markdown",
      "metadata": {
        "id": "EiScYPgoMhL2"
      },
      "source": [
        "Ao realizar as análises concluiu-se que:\n",
        "\n",
        "*   Se faz necessario ter um grupo de controle nos experimentos;\n",
        "*   Experimentos relacionados a drogas possuem diversas variáveis que devem ser testadas;\n",
        "*   É evidente o quanto a tecnologia é importante para realizar as análises de forma descomplicada;\n",
        "*   Com a ajuda do pandas foi possível realizar  a manipulação dos dados;\n",
        "*   Com o matplotlib foi possível expressar os resultados em forma de gráfico.\n",
        "\n"
      ]
    }
  ]
}